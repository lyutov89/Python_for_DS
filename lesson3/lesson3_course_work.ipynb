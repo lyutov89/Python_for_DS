{
 "cells": [
  {
   "cell_type": "code",
   "execution_count": 1,
   "metadata": {},
   "outputs": [],
   "source": [
    "import pandas as pd\n",
    "\n",
    "import seaborn as sns\n",
    "from matplotlib import pyplot as plt\n",
    "\n",
    "%matplotlib inline\n",
    "%config InlineBackend.figure_format = 'svg'\n",
    "\n",
    "import warnings\n",
    "warnings.filterwarnings(\"ignore\")"
   ]
  },
  {
   "cell_type": "code",
   "execution_count": 2,
   "metadata": {},
   "outputs": [],
   "source": [
    "TRAIN_PATH = 'C:/Users/Anatoly/Desktop/Python_and_DS/file_train.csv'\n",
    "TEST_PATH = 'C:/Users/Anatoly/Desktop/Python_and_DS/file_test.csv'"
   ]
  },
  {
   "cell_type": "code",
   "execution_count": 3,
   "metadata": {},
   "outputs": [],
   "source": [
    "df_train = pd.read_csv(TRAIN_PATH)\n",
    "df_test = pd.read_csv(TRAIN_PATH)"
   ]
  },
  {
   "cell_type": "markdown",
   "metadata": {},
   "source": [
    "# Отбор признаков"
   ]
  },
  {
   "cell_type": "code",
   "execution_count": 4,
   "metadata": {},
   "outputs": [],
   "source": [
    "TARGET_NAME = 'Credit Default'\n",
    "BASE_FEATURE_NAMES = df_train.columns.drop(TARGET_NAME).tolist()"
   ]
  },
  {
   "cell_type": "code",
   "execution_count": 5,
   "metadata": {},
   "outputs": [
    {
     "data": {
      "text/plain": [
       "['Unnamed: 0',\n",
       " 'Home Ownership',\n",
       " 'Annual Income',\n",
       " 'Years in current job',\n",
       " 'Tax Liens',\n",
       " 'Number of Open Accounts',\n",
       " 'Years of Credit History',\n",
       " 'Maximum Open Credit',\n",
       " 'Number of Credit Problems',\n",
       " 'Months since last delinquent',\n",
       " 'Bankruptcies',\n",
       " 'Purpose',\n",
       " 'Term',\n",
       " 'Current Loan Amount',\n",
       " 'Current Credit Balance',\n",
       " 'Monthly Debt',\n",
       " 'Credit Score',\n",
       " 'Number of years in current job',\n",
       " 'Home Ownership_Have Mortgage',\n",
       " 'Home Ownership_Home Mortgage',\n",
       " 'Home Ownership_Own Home',\n",
       " 'Home Ownership_Rent',\n",
       " 'ID',\n",
       " 'Classify_purpose']"
      ]
     },
     "execution_count": 5,
     "metadata": {},
     "output_type": "execute_result"
    }
   ],
   "source": [
    "BASE_FEATURE_NAMES"
   ]
  },
  {
   "cell_type": "code",
   "execution_count": 6,
   "metadata": {},
   "outputs": [],
   "source": [
    "NUM_FEATURE_NAMES = ['Number of Open Accounts', 'Years of Credit History', 'Maximum Open Credit', \n",
    "                     'Number of Credit Problems', 'Months since last delinquent', 'Bankruptcies', 'Current Loan Amount', \n",
    "                     'Current Credit Balance', 'Monthly Debt', 'Credit Score', 'Number of years in current job', 'ID']\n",
    "\n",
    "CAT_FEATURE_NAMES = [ 'Term', 'Classify_purpose',  'Home Ownership_Have Mortgage', 'Home Ownership_Home Mortgage',\n",
    "                     'Home Ownership_Own Home', 'Home Ownership_Rent']"
   ]
  },
  {
   "cell_type": "code",
   "execution_count": 7,
   "metadata": {},
   "outputs": [],
   "source": [
    "SELECTED_FEATURE_NAMES = NUM_FEATURE_NAMES + CAT_FEATURE_NAMES"
   ]
  },
  {
   "cell_type": "code",
   "execution_count": 8,
   "metadata": {},
   "outputs": [],
   "source": [
    "#!pip install xgboost\n",
    "#!pip install lightgbm\n",
    "#!pip install catboost\n",
    "#!pip install imblearn"
   ]
  },
  {
   "cell_type": "code",
   "execution_count": 27,
   "metadata": {},
   "outputs": [],
   "source": [
    "import pandas as pd\n",
    "import numpy as np\n",
    "import pickle\n",
    "import random\n",
    "\n",
    "from sklearn.preprocessing import StandardScaler, MinMaxScaler\n",
    "from sklearn.model_selection import train_test_split, ShuffleSplit, cross_val_score, learning_curve\n",
    "from sklearn.model_selection import KFold, GridSearchCV, RandomizedSearchCV\n",
    "from sklearn.metrics import classification_report, f1_score as f1, precision_score, recall_score\n",
    "\n",
    "from sklearn.linear_model import LogisticRegression\n",
    "from sklearn.neighbors import KNeighborsClassifier\n",
    "import xgboost as xgb, lightgbm as lgbm, catboost as catb\n",
    "\n",
    "import seaborn as sns\n",
    "from matplotlib import pyplot as plt\n",
    "%matplotlib inline"
   ]
  },
  {
   "cell_type": "code",
   "execution_count": 10,
   "metadata": {},
   "outputs": [],
   "source": [
    "import warnings\n",
    "warnings.simplefilter('ignore')"
   ]
  },
  {
   "cell_type": "code",
   "execution_count": 11,
   "metadata": {},
   "outputs": [],
   "source": [
    "def norm_df(df_train, df_test):\n",
    "    scaler = StandardScaler()\n",
    "    df_train[NUM_FEATURE_NAMES] = scaler.fit_transform(df_train[NUM_FEATURE_NAMES])\n",
    "    df_test[NUM_FEATURE_NAMES] = scaler.transform(df_test[NUM_FEATURE_NAMES])\n",
    "    return df_train, df_test"
   ]
  },
  {
   "cell_type": "code",
   "execution_count": 12,
   "metadata": {},
   "outputs": [],
   "source": [
    "df_train, df_test = norm_df(df_train, df_test)"
   ]
  },
  {
   "cell_type": "code",
   "execution_count": 13,
   "metadata": {},
   "outputs": [
    {
     "data": {
      "text/html": [
       "<div>\n",
       "<style scoped>\n",
       "    .dataframe tbody tr th:only-of-type {\n",
       "        vertical-align: middle;\n",
       "    }\n",
       "\n",
       "    .dataframe tbody tr th {\n",
       "        vertical-align: top;\n",
       "    }\n",
       "\n",
       "    .dataframe thead th {\n",
       "        text-align: right;\n",
       "    }\n",
       "</style>\n",
       "<table border=\"1\" class=\"dataframe\">\n",
       "  <thead>\n",
       "    <tr style=\"text-align: right;\">\n",
       "      <th></th>\n",
       "      <th>Number of Open Accounts</th>\n",
       "      <th>Years of Credit History</th>\n",
       "      <th>Maximum Open Credit</th>\n",
       "      <th>Number of Credit Problems</th>\n",
       "      <th>Months since last delinquent</th>\n",
       "      <th>Bankruptcies</th>\n",
       "      <th>Current Loan Amount</th>\n",
       "      <th>Current Credit Balance</th>\n",
       "      <th>Monthly Debt</th>\n",
       "      <th>Credit Score</th>\n",
       "      <th>Number of years in current job</th>\n",
       "      <th>ID</th>\n",
       "      <th>Term</th>\n",
       "      <th>Classify_purpose</th>\n",
       "      <th>Home Ownership_Have Mortgage</th>\n",
       "      <th>Home Ownership_Home Mortgage</th>\n",
       "      <th>Home Ownership_Own Home</th>\n",
       "      <th>Home Ownership_Rent</th>\n",
       "    </tr>\n",
       "  </thead>\n",
       "  <tbody>\n",
       "    <tr>\n",
       "      <td>0</td>\n",
       "      <td>0.061171</td>\n",
       "      <td>1.167923</td>\n",
       "      <td>0.684156</td>\n",
       "      <td>2.504893</td>\n",
       "      <td>-0.698538</td>\n",
       "      <td>2.842517</td>\n",
       "      <td>2.760520</td>\n",
       "      <td>-1.017387</td>\n",
       "      <td>-0.956697</td>\n",
       "      <td>0.608640</td>\n",
       "      <td>-1.240797</td>\n",
       "      <td>-1.731820</td>\n",
       "      <td>0</td>\n",
       "      <td>-1.0</td>\n",
       "      <td>0</td>\n",
       "      <td>0</td>\n",
       "      <td>1</td>\n",
       "      <td>0</td>\n",
       "    </tr>\n",
       "    <tr>\n",
       "      <td>1</td>\n",
       "      <td>1.008578</td>\n",
       "      <td>-0.428100</td>\n",
       "      <td>2.443371</td>\n",
       "      <td>-0.399219</td>\n",
       "      <td>-0.698538</td>\n",
       "      <td>-0.351801</td>\n",
       "      <td>-0.363620</td>\n",
       "      <td>0.621818</td>\n",
       "      <td>0.103274</td>\n",
       "      <td>0.567701</td>\n",
       "      <td>1.364411</td>\n",
       "      <td>-1.731358</td>\n",
       "      <td>1</td>\n",
       "      <td>-1.0</td>\n",
       "      <td>0</td>\n",
       "      <td>0</td>\n",
       "      <td>1</td>\n",
       "      <td>0</td>\n",
       "    </tr>\n",
       "    <tr>\n",
       "      <td>2</td>\n",
       "      <td>0.061171</td>\n",
       "      <td>2.430231</td>\n",
       "      <td>2.445869</td>\n",
       "      <td>-0.399219</td>\n",
       "      <td>-0.698538</td>\n",
       "      <td>-0.351801</td>\n",
       "      <td>2.760520</td>\n",
       "      <td>0.213495</td>\n",
       "      <td>-0.375279</td>\n",
       "      <td>0.584759</td>\n",
       "      <td>0.148647</td>\n",
       "      <td>-1.730896</td>\n",
       "      <td>0</td>\n",
       "      <td>-1.0</td>\n",
       "      <td>0</td>\n",
       "      <td>1</td>\n",
       "      <td>0</td>\n",
       "      <td>0</td>\n",
       "    </tr>\n",
       "    <tr>\n",
       "      <td>3</td>\n",
       "      <td>-0.649385</td>\n",
       "      <td>0.616569</td>\n",
       "      <td>-1.226897</td>\n",
       "      <td>2.504893</td>\n",
       "      <td>-0.698538</td>\n",
       "      <td>2.842517</td>\n",
       "      <td>-0.368118</td>\n",
       "      <td>-0.788808</td>\n",
       "      <td>-0.609691</td>\n",
       "      <td>0.421002</td>\n",
       "      <td>-0.198714</td>\n",
       "      <td>-1.730434</td>\n",
       "      <td>0</td>\n",
       "      <td>-1.0</td>\n",
       "      <td>0</td>\n",
       "      <td>0</td>\n",
       "      <td>1</td>\n",
       "      <td>0</td>\n",
       "    </tr>\n",
       "    <tr>\n",
       "      <td>4</td>\n",
       "      <td>0.534875</td>\n",
       "      <td>-0.674758</td>\n",
       "      <td>-0.380819</td>\n",
       "      <td>2.504893</td>\n",
       "      <td>-0.698538</td>\n",
       "      <td>-0.351801</td>\n",
       "      <td>-0.367978</td>\n",
       "      <td>-0.800815</td>\n",
       "      <td>-1.031085</td>\n",
       "      <td>0.506292</td>\n",
       "      <td>0.148647</td>\n",
       "      <td>-1.729972</td>\n",
       "      <td>0</td>\n",
       "      <td>-1.0</td>\n",
       "      <td>0</td>\n",
       "      <td>0</td>\n",
       "      <td>0</td>\n",
       "      <td>1</td>\n",
       "    </tr>\n",
       "  </tbody>\n",
       "</table>\n",
       "</div>"
      ],
      "text/plain": [
       "   Number of Open Accounts  Years of Credit History  Maximum Open Credit  \\\n",
       "0                 0.061171                 1.167923             0.684156   \n",
       "1                 1.008578                -0.428100             2.443371   \n",
       "2                 0.061171                 2.430231             2.445869   \n",
       "3                -0.649385                 0.616569            -1.226897   \n",
       "4                 0.534875                -0.674758            -0.380819   \n",
       "\n",
       "   Number of Credit Problems  Months since last delinquent  Bankruptcies  \\\n",
       "0                   2.504893                     -0.698538      2.842517   \n",
       "1                  -0.399219                     -0.698538     -0.351801   \n",
       "2                  -0.399219                     -0.698538     -0.351801   \n",
       "3                   2.504893                     -0.698538      2.842517   \n",
       "4                   2.504893                     -0.698538     -0.351801   \n",
       "\n",
       "   Current Loan Amount  Current Credit Balance  Monthly Debt  Credit Score  \\\n",
       "0             2.760520               -1.017387     -0.956697      0.608640   \n",
       "1            -0.363620                0.621818      0.103274      0.567701   \n",
       "2             2.760520                0.213495     -0.375279      0.584759   \n",
       "3            -0.368118               -0.788808     -0.609691      0.421002   \n",
       "4            -0.367978               -0.800815     -1.031085      0.506292   \n",
       "\n",
       "   Number of years in current job        ID  Term  Classify_purpose  \\\n",
       "0                       -1.240797 -1.731820     0              -1.0   \n",
       "1                        1.364411 -1.731358     1              -1.0   \n",
       "2                        0.148647 -1.730896     0              -1.0   \n",
       "3                       -0.198714 -1.730434     0              -1.0   \n",
       "4                        0.148647 -1.729972     0              -1.0   \n",
       "\n",
       "   Home Ownership_Have Mortgage  Home Ownership_Home Mortgage  \\\n",
       "0                             0                             0   \n",
       "1                             0                             0   \n",
       "2                             0                             1   \n",
       "3                             0                             0   \n",
       "4                             0                             0   \n",
       "\n",
       "   Home Ownership_Own Home  Home Ownership_Rent  \n",
       "0                        1                    0  \n",
       "1                        1                    0  \n",
       "2                        0                    0  \n",
       "3                        1                    0  \n",
       "4                        0                    1  "
      ]
     },
     "execution_count": 13,
     "metadata": {},
     "output_type": "execute_result"
    }
   ],
   "source": [
    "df_train[SELECTED_FEATURE_NAMES].head()"
   ]
  },
  {
   "cell_type": "code",
   "execution_count": 16,
   "metadata": {},
   "outputs": [],
   "source": [
    "X = df_train[SELECTED_FEATURE_NAMES]\n",
    "y = df_train[TARGET_NAME]\n",
    "\n",
    "X_train, X_valid, y_train, y_valid = train_test_split(X, y, shuffle=True, test_size=0.3, random_state=42)"
   ]
  },
  {
   "cell_type": "code",
   "execution_count": 19,
   "metadata": {},
   "outputs": [
    {
     "data": {
      "text/plain": [
       "0    3795\n",
       "1    1455\n",
       "Name: Credit Default, dtype: int64"
      ]
     },
     "execution_count": 19,
     "metadata": {},
     "output_type": "execute_result"
    }
   ],
   "source": [
    "df_for_balancing = pd.concat([X_train, y_train], axis=1)\n",
    "df_for_balancing[TARGET_NAME].value_counts()"
   ]
  },
  {
   "cell_type": "code",
   "execution_count": 20,
   "metadata": {},
   "outputs": [],
   "source": [
    "def balance_df_by_target(df, target_name):\n",
    "\n",
    "    target_counts = df[target_name].value_counts()\n",
    "\n",
    "    major_class_name = target_counts.argmax()\n",
    "    minor_class_name = target_counts.argmin()\n",
    "\n",
    "    disbalance_coeff = int(target_counts[major_class_name] / target_counts[minor_class_name]) - 1\n",
    "\n",
    "    for i in range(disbalance_coeff):\n",
    "        sample = df[df[target_name] == minor_class_name].sample(target_counts[minor_class_name])\n",
    "        df = df.append(sample, ignore_index=True)\n",
    "\n",
    "    return df.sample(frac=1)"
   ]
  },
  {
   "cell_type": "markdown",
   "metadata": {},
   "source": [
    "# Балансировка классов"
   ]
  },
  {
   "cell_type": "code",
   "execution_count": 21,
   "metadata": {},
   "outputs": [
    {
     "data": {
      "text/plain": [
       "0    3795\n",
       "1    2910\n",
       "Name: Credit Default, dtype: int64"
      ]
     },
     "execution_count": 21,
     "metadata": {},
     "output_type": "execute_result"
    }
   ],
   "source": [
    "df_balanced = balance_df_by_target(df_for_balancing, TARGET_NAME)\n",
    "df_balanced[TARGET_NAME].value_counts()"
   ]
  },
  {
   "cell_type": "code",
   "execution_count": 22,
   "metadata": {},
   "outputs": [],
   "source": [
    "X_train = df_balanced.drop(columns=TARGET_NAME)\n",
    "y_train = df_balanced[TARGET_NAME]"
   ]
  },
  {
   "cell_type": "markdown",
   "metadata": {},
   "source": [
    "# Создание моделей"
   ]
  },
  {
   "cell_type": "code",
   "execution_count": 36,
   "metadata": {},
   "outputs": [],
   "source": [
    "def create_model(df_train, df_valid, y_train, y_valid, model, features):\n",
    "    model.fit(df_train.loc[:, features], y_train.values.ravel())\n",
    "    pred_valid = model.predict(df_valid.loc[:, features])\n",
    "    f1_ = f1(y_valid, pred_valid)\n",
    "    print(f'f1: {f1_}')\n",
    "    return (pred_valid)"
   ]
  },
  {
   "cell_type": "code",
   "execution_count": 37,
   "metadata": {},
   "outputs": [
    {
     "name": "stdout",
     "output_type": "stream",
     "text": [
      "f1: 0.8585337070364361\n",
      "f1: 0.40756558877364246\n"
     ]
    }
   ],
   "source": [
    "from sklearn.neighbors import KNeighborsClassifier\n",
    "knn = KNeighborsClassifier(n_neighbors=3)\n",
    "pred_knn_train = create_model(X_train, X_train, y_train, y_train.values.ravel(), knn, SELECTED_FEATURE_NAMES)\n",
    "pred_knn_valid = create_model(X_train, X_valid, y_train, y_valid.values.ravel(), knn, SELECTED_FEATURE_NAMES)"
   ]
  },
  {
   "cell_type": "code",
   "execution_count": 38,
   "metadata": {},
   "outputs": [
    {
     "name": "stdout",
     "output_type": "stream",
     "text": [
      "f1: 0.6683046683046682\n",
      "f1: 0.42712392829306306\n"
     ]
    }
   ],
   "source": [
    "rf = RandomForestClassifier(n_estimators=300, max_depth=8, random_state=42, max_features=8, min_samples_leaf=2)\n",
    "pred_rf_train = create_model(X_train, X_train, y_train, y_train, rf, SELECTED_FEATURE_NAMES)\n",
    "pred_rf_valid = create_model(X_train, X_valid, y_train, y_valid, rf, SELECTED_FEATURE_NAMES)"
   ]
  },
  {
   "cell_type": "code",
   "execution_count": 39,
   "metadata": {},
   "outputs": [
    {
     "name": "stdout",
     "output_type": "stream",
     "text": [
      "f1: 0.49543233482048005\n",
      "f1: 0.3766122098022356\n"
     ]
    }
   ],
   "source": [
    "from sklearn.svm import SVC\n",
    "svc_model = SVC(gamma='scale', C=0.1)\n",
    "pred_svc_train = create_model(X_train, X_train, y_train, y_train.values.ravel(), svc_model, SELECTED_FEATURE_NAMES)\n",
    "pred_svc_valid = create_model(X_train, X_valid, y_train, y_valid.values.ravel(), svc_model, SELECTED_FEATURE_NAMES)"
   ]
  },
  {
   "cell_type": "code",
   "execution_count": 40,
   "metadata": {},
   "outputs": [
    {
     "name": "stdout",
     "output_type": "stream",
     "text": [
      "f1: 0.5373480023161552\n",
      "f1: 0.4327573253193088\n"
     ]
    }
   ],
   "source": [
    "from sklearn.linear_model import LogisticRegression\n",
    "lr = LogisticRegression(solver='lbfgs')\n",
    "pred_lr_train = create_model(X_train, X_train, y_train, y_train.values.ravel(), lr, SELECTED_FEATURE_NAMES)\n",
    "pred_lr_valid = create_model(X_train, X_valid, y_train, y_valid.values.ravel(), lr, SELECTED_FEATURE_NAMES)"
   ]
  },
  {
   "cell_type": "markdown",
   "metadata": {},
   "source": [
    "Лучше всех отработал KNN, RandomForestClassifier, LogisticRegression. Получен бейзлайн, но пока ниже целевого значения 0.5. Как улучшить: поработать еще с признаками (вижу тут потенциал), попробовать кросс-валидацию, xgboost. \n",
    "\n",
    "Надо еще раз проанализировать \"Annual income\", здесь есть потенциал. Также нужно проверить, можно ли объединить Home Ownership в один через dummy переменные. Также в предыдущем уроке мы убедились, что некоторые числовые переменные можно прологарифмировать и представить через преобразование boxcox."
   ]
  },
  {
   "cell_type": "markdown",
   "metadata": {},
   "source": [
    "Еще можно попробовать балансировку классов через Imblearn. "
   ]
  },
  {
   "cell_type": "markdown",
   "metadata": {},
   "source": [
    "- Для чего и в каких случаях полезны различные варианты усреднения для метрик качества классификации: micro, macro, weighted?\n",
    "- В чём разница между моделями xgboost, lightgbm и catboost или какие их основные особенности?"
   ]
  },
  {
   "cell_type": "markdown",
   "metadata": {},
   "source": [
    "По второму вопросу: "
   ]
  },
  {
   "cell_type": "markdown",
   "metadata": {},
   "source": [
    "https://towardsdatascience.com/catboost-vs-light-gbm-vs-xgboost-5f93620723db"
   ]
  },
  {
   "cell_type": "markdown",
   "metadata": {},
   "source": [
    "https://github.com/Pyligent/lightGBM_vs_XGBoost"
   ]
  },
  {
   "cell_type": "markdown",
   "metadata": {},
   "source": [
    "В первой статье есть даже табличное сравнение по входным параметрам в модель. Если коротко, то lightgbm использует новую технику односторонней выборки на основе градиента (GOSS), xgboost - алгоритм на основе предварительной сортировки для поиска наилучшего разбиения. Catboost - модель машинного обучения на основе градиентного бустинга. Эта модель точнее и может работать с категориальными переменными напрямую, преобразовывать не надо. \n",
    "https://habr.com/ru/company/yandex/blog/458790/\n"
   ]
  },
  {
   "cell_type": "markdown",
   "metadata": {},
   "source": [
    "\"Категориальные фичи мы процессим немножечко по-другому. Категориальные фичи мы в самом начале хэшируем, а потом перенумеровываем хэши от нуля до количества уникальных значений категориальной фичи, чтобы быстро считать комбинации категориальных фич.\" - из доклада на Хабре. "
   ]
  },
  {
   "cell_type": "markdown",
   "metadata": {},
   "source": [
    "По первому вопросу: "
   ]
  },
  {
   "cell_type": "markdown",
   "metadata": {},
   "source": [
    "Оригинал: https://github.com/scikit-learn/scikit-learn/blob/7b136e9/sklearn/metrics/classification.py#L620"
   ]
  },
  {
   "cell_type": "markdown",
   "metadata": {},
   "source": [
    "        ``'Микро'``:\n",
    "            Вычисление метрик по всему датасету, подсчет полного кол-ва TP, FN, FP. \n",
    "            Исходя из определения, используем повсеместно. \n",
    "        ``'Макро'``:\n",
    "            Вычисление метрики для каждого признака и поиск его средней невзвешенной величины. \n",
    "            В этом случае не учитывается дисбаланс признака. \n",
    "        ``'Взвешенный'``:\n",
    "            Вычисление метрики для каждого признака и поиск среднего взвешенного\n",
    "            (кол-во истинных значений для каждого признака)"
   ]
  },
  {
   "cell_type": "markdown",
   "metadata": {},
   "source": [
    "\"Взвешенный\" используется В случае неравных классов нужно подбирать баланс классов для обучения и метрику, которая будет корректно отражать качество классификации "
   ]
  },
  {
   "cell_type": "markdown",
   "metadata": {},
   "source": [
    "Чтобы точно донести мысль как считается f1 при микро и макро подходе, обратимся к статье: http://rushdishams.blogspot.com/2011/08/micro-and-macro-average-of-precision.html"
   ]
  },
  {
   "cell_type": "markdown",
   "metadata": {},
   "source": [
    "Если коротко, то при микро мы считаем метрики на уровне всех компонент (TP1, TP2, FN1, FN2....), а при макро - сразу получаем данные precision и recall, после усредняем. "
   ]
  },
  {
   "cell_type": "markdown",
   "metadata": {},
   "source": [
    "Макро подход позволяет оценивать модель с точки зрения его устойчивости. Микро - разбираться на уровне признаков. "
   ]
  },
  {
   "cell_type": "code",
   "execution_count": null,
   "metadata": {},
   "outputs": [],
   "source": []
  }
 ],
 "metadata": {
  "kernelspec": {
   "display_name": "Python 3",
   "language": "python",
   "name": "python3"
  },
  "language_info": {
   "codemirror_mode": {
    "name": "ipython",
    "version": 3
   },
   "file_extension": ".py",
   "mimetype": "text/x-python",
   "name": "python",
   "nbconvert_exporter": "python",
   "pygments_lexer": "ipython3",
   "version": "3.7.4"
  }
 },
 "nbformat": 4,
 "nbformat_minor": 2
}
